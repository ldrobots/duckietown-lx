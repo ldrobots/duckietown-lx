{
 "cells": [
  {
   "cell_type": "markdown",
   "metadata": {},
   "source": [
    "<p style=\"text-align: center\">\n",
    "<img src=\"../../assets/images/dtlogo.png\" alt=\"Duckietown\" width=\"50%\">\n",
    "</p>"
   ]
  },
  {
   "cell_type": "code",
   "execution_count": 3,
   "metadata": {},
   "outputs": [
    {
     "name": "stdout",
     "output_type": "stream",
     "text": [
      "%pylab is deprecated, use %matplotlib inline and import the required libraries.\n",
      "Populating the interactive namespace from numpy and matplotlib\n"
     ]
    }
   ],
   "source": [
    "%load_ext autoreload\n",
    "%autoreload 2\n",
    "\n",
    "import numpy as np\n",
    "import matplotlib.pyplot as plt\n",
    "\n",
    "import duckietown_code_utils as dcu\n",
    "\n",
    "%matplotlib inline\n",
    "%pylab inline"
   ]
  },
  {
   "cell_type": "markdown",
   "metadata": {},
   "source": [
    "# Implementation of Braitenberg agent\n",
    "\n",
    "Now we know enough about image filtering to implement our Braitenberg agent such that it will avoid duckies.  You already updated the image preprocessing in the last activity to highlight duckies - now it's time to handle the sensorimotor connections in order to control our agent.\n",
    "\n",
    "### Setup\n",
    "\n",
    "We will implement an agent of the form\n",
    "\n",
    "```python\n",
    "left_motor  = const + gain *  np.sum( LEFT * preprocess(image) )\n",
    "right_motor = const + gain *  np.sum( RIGHT * preprocess(image) )\n",
    "```\n",
    "\n",
    "where `LEFT` and `RIGHT` are the weight matrices, while `const` and `gain` are two extra parameters for fine tuning."
   ]
  },
  {
   "cell_type": "markdown",
   "metadata": {},
   "source": [
    "To do this you will have to implement the two functions `get_motor_left_matrix()` and `get_motor_right_matrix()` in the file [connections.py](../../packages/solution/connections.py). The file contains code that creates connections but currently uses random values. You will erase these and use your own."
   ]
  },
  {
   "cell_type": "markdown",
   "metadata": {},
   "source": [
    "The other important code, which you need to **not** touch (for now), is the file [agent.py](../../packages/braitenberg_agent/agent.py). This contains the rest of the Braitenberg agent, including all of the functionality (reading observations and creating motor commands). The agent will load the `get_motor_left_matrix`, `get_motor_right_matrix` functions from the file [connections.py](../packages/solution/connections.py).\n"
   ]
  },
  {
   "cell_type": "markdown",
   "metadata": {},
   "source": [
    "### Visualization\n",
    "Before you jump into editing the code, we can also load the functions from `connections.py` into this notebook to visualize their output:"
   ]
  },
  {
   "cell_type": "code",
   "execution_count": 4,
   "metadata": {},
   "outputs": [],
   "source": [
    "from solution.connections import get_motor_left_matrix, get_motor_right_matrix"
   ]
  },
  {
   "cell_type": "markdown",
   "metadata": {},
   "source": [
    "Let's visualize what the functions above are doing. As we said, the defaults do not make much sense, so not we won't see anything interesting. But as you go and change the functions, then you will see more interesting results. You can come back to this notebook as you fine-tune your solution to see the updates. We'll start with the duckie image once again.\n",
    "\n",
    "Note: you might need to reload the kernel for the notebook to detect the changes you make."
   ]
  },
  {
   "cell_type": "markdown",
   "metadata": {
    "collapsed": false
   },
   "source": [
    "The `shape` that was just printed above will be useful to you when you edit [connections.py](../../packages/solution/connections.py) as well as the visualizations of the motor matrices below."
   ]
  },
  {
   "cell_type": "code",
   "execution_count": 5,
   "metadata": {},
   "outputs": [
    {
     "name": "stdout",
     "output_type": "stream",
     "text": [
      "(480, 640)\n"
     ]
    }
   ],
   "source": [
    "fn = '../../assets/samples/big-duck/big-duck-09.jpg'\n",
    "image1 = dcu.rgb_from_jpg_fn(fn);\n",
    "image1_gray = np.mean(image1, axis=2)\n",
    "shape = image1_gray.shape\n",
    "print(shape)"
   ]
  },
  {
   "cell_type": "code",
   "execution_count": 10,
   "metadata": {
    "pycharm": {
     "name": "#%%\n"
    },
    "tags": [
     "export"
    ]
   },
   "outputs": [
    {
     "name": "stdout",
     "output_type": "stream",
     "text": [
      "(480, 640)\n"
     ]
    }
   ],
   "source": [
    "L = get_motor_left_matrix(shape)\n",
    "R = get_motor_right_matrix(shape)"
   ]
  },
  {
   "cell_type": "code",
   "execution_count": 11,
   "metadata": {
    "pycharm": {
     "name": "#%%md\n"
    }
   },
   "outputs": [
    {
     "name": "stdout",
     "output_type": "stream",
     "text": [
      "[[ 0.   0.   0.  ...  0.2  0.2  0.2]\n",
      " [ 0.   0.   0.  ...  0.2  0.2  0.2]\n",
      " [ 0.   0.   0.  ...  0.2  0.2  0.2]\n",
      " ...\n",
      " [ 1.5  1.5  1.5 ... -0.5 -0.5 -0.5]\n",
      " [ 1.5  1.5  1.5 ... -0.5 -0.5 -0.5]\n",
      " [ 1.5  1.5  1.5 ... -0.5 -0.5 -0.5]]\n"
     ]
    },
    {
     "data": {
      "image/png": "[encoded data removed]",
      "text/plain": [
       "<Figure size 640x480 with 2 Axes>"
      ]
     },
     "metadata": {},
     "output_type": "display_data"
    }
   ],
   "source": [
    "# visualizing left matrix\n",
    "\n",
    "f = plt.figure()\n",
    "f.add_subplot(1, 2, 1)\n",
    "print(L)\n",
    "plt.imshow(dcu.posneg(L))\n",
    "plt.title('left matrix');\n",
    "f.add_subplot(1, 2, 2)\n",
    "plt.imshow(dcu.posneg(R))\n",
    "plt.title('right matrix');"
   ]
  },
  {
   "cell_type": "markdown",
   "metadata": {},
   "source": [
    "The following code will run the algorithm against some test images.\n",
    "\n",
    "Note that it is not possible to really test such an algorithm on passive data. We need to run it!\n",
    "\n",
    "Still, it is useful to see how your matrices are used. We simply multiply them with the preprocessed image\n",
    "(the image that now only has non-zero pixel values where there are duckies). Then, we look at the sign of the result for\n",
    "each matrix, and this is what decides which control values get sent to the motors.\n",
    "\n",
    "Think about how to value your matrices such that the sign of their multiplication's results is a good control rule for your motors."
   ]
  },
  {
   "cell_type": "code",
   "execution_count": 2,
   "metadata": {},
   "outputs": [
    {
     "ename": "NameError",
     "evalue": "name 'dcu' is not defined",
     "output_type": "error",
     "traceback": [
      "\u001b[0;31m---------------------------------------------------------------------------\u001b[0m",
      "\u001b[0;31mNameError\u001b[0m                                 Traceback (most recent call last)",
      "Cell \u001b[0;32mIn[2], line 10\u001b[0m\n\u001b[1;32m      7\u001b[0m images \u001b[38;5;241m=\u001b[39m glob\u001b[38;5;241m.\u001b[39mglob(\u001b[38;5;124mf\u001b[39m\u001b[38;5;124m'\u001b[39m\u001b[38;5;132;01m{\u001b[39;00mdirname\u001b[38;5;132;01m}\u001b[39;00m\u001b[38;5;124m/*.jpg\u001b[39m\u001b[38;5;124m'\u001b[39m)\n\u001b[1;32m      9\u001b[0m \u001b[38;5;28;01mfor\u001b[39;00m a \u001b[38;5;129;01min\u001b[39;00m images:\n\u001b[0;32m---> 10\u001b[0m     im \u001b[38;5;241m=\u001b[39m \u001b[43mdcu\u001b[49m\u001b[38;5;241m.\u001b[39mrgb_from_jpg_fn(a)\n\u001b[1;32m     11\u001b[0m     P \u001b[38;5;241m=\u001b[39m preprocess(im)\n\u001b[1;32m     12\u001b[0m     Lim \u001b[38;5;241m=\u001b[39m P \u001b[38;5;241m*\u001b[39m L\n",
      "\u001b[0;31mNameError\u001b[0m: name 'dcu' is not defined"
     ]
    }
   ],
   "source": [
    "from matplotlib import pylab\n",
    "import glob, os\n",
    "\n",
    "from braitenberg_agent.agent import preprocess\n",
    "\n",
    "dirname = '../../assets/samples/many-duckies'\n",
    "images = glob.glob(f'{dirname}/*.jpg')\n",
    "\n",
    "for a in images:\n",
    "    im = dcu.rgb_from_jpg_fn(a)\n",
    "    P = preprocess(im)\n",
    "    Lim = P * L\n",
    "    Rim = P * R\n",
    "    Lsign = np.sum(Lim)\n",
    "    Rsign = np.sum(Rim)\n",
    "    f = pylab.figure(figsize=(10,2))\n",
    "    f.add_subplot(1, 4, 1)\n",
    "    plt.imshow(im)\n",
    "    pylab.title(os.path.basename(a))\n",
    "    f.add_subplot(1, 4, 2)\n",
    "    plt.imshow(P, cmap='gray')\n",
    "    pylab.title(\"Preprocessed\")\n",
    "    f.add_subplot(1, 4, 3)\n",
    "    plt.imshow(dcu.posneg(Lim))\n",
    "    pylab.title('left wheel ' + ('↑' if Lsign > 0 else '↓'))\n",
    "    f.add_subplot(1, 4, 4)\n",
    "    plt.imshow(dcu.posneg(Rim), cmap='bwr')\n",
    "    pylab.title('right wheel ' + ('↑' if Rsign > 0 else '↓'))\n"
   ]
  },
  {
   "cell_type": "markdown",
   "metadata": {},
   "source": [
    "### Build your agent\n",
    "Now that the visualizations are set up, you can edit `connections.py` and test your agent according to the instructions in the [README](../../README.md).\n",
    "\n",
    "Use the `workbench` command (also described in the README) to check on your agent's performance as you update the functions. To test in simulation, you will first build the exercise using\n",
    "\n",
    "`dts code build`\n",
    "\n",
    "Followed by\n",
    "\n",
    "`dts code workbench --sim`\n",
    "\n",
    "which will give you a link to the running simulation (you may have to scroll up in your terminal to find the `Sim running at: <URL>` output). There you will be able to see your agent commanding the Duckiebot through a field of Duckies. See if you can make it across without hitting any!"
   ]
  },
  {
   "cell_type": "markdown",
   "metadata": {},
   "source": [
    "Consider the agent that we gave you as a starting point - feel free to explore with using different code in [agent.py](../../packages/braitenberg_agent/agent.py).  You may need to tune the `gain` and `const` values in the `BraitenbergAgentConfig` class to fit your agent and Duckiebot."
   ]
  },
  {
   "cell_type": "markdown",
   "metadata": {},
   "source": [
    "### Submitting this exercise\n",
    "Remember that to hand in this exercise, you will have to complete the final step in the README instructions successfully (`dts code submit`).  Be sure to use the URL that is generated to follow your agent's progress and compare it to other submitted solutions!\n"
   ]
  }
 ],
 "metadata": {
  "celltoolbar": "Tags",
  "kernelspec": {
   "display_name": "Python 3.8.10 64-bit",
   "language": "python",
   "name": "python3"
  },
  "language_info": {
   "codemirror_mode": {
    "name": "ipython",
    "version": 3
   },
   "file_extension": ".py",
   "mimetype": "text/x-python",
   "name": "python",
   "nbconvert_exporter": "python",
   "pygments_lexer": "ipython3",
   "version": "3.8.10"
  },
  "vscode": {
   "interpreter": {
    "hash": "916dbcbb3f70747c44a77c7bcd40155683ae19c65e1c03b4aa3499c5328201f1"
   }
  }
 },
 "nbformat": 4,
 "nbformat_minor": 4
}
